{
 "cells": [
  {
   "cell_type": "markdown",
   "metadata": {},
   "source": [
    "### Import packages and Dataset"
   ]
  },
  {
   "cell_type": "code",
   "execution_count": 2,
   "metadata": {},
   "outputs": [],
   "source": [
    "import pandas as pd\n",
    "from sklearn.preprocessing import MinMaxScaler\n",
    "from pandas_profiling import ProfileReport\n",
    "import matplotlib.pyplot as plt\n",
    "import seaborn as sns\n",
    "import numpy as np\n",
    "from sklearn.metrics import classification_report\n",
    "from sklearn.metrics import ConfusionMatrixDisplay\n",
    "from sklearn.metrics import confusion_matrix\n",
    "#import Data set\n",
    "df_diabetes = pd.read_csv(\"diabetes.csv\", header = 0)\n",
    "df_dibcpy=df_diabetes.copy()\n"
   ]
  },
  {
   "cell_type": "markdown",
   "metadata": {},
   "source": [
    "### Statistical review of Data set"
   ]
  },
  {
   "cell_type": "code",
   "execution_count": 3,
   "metadata": {},
   "outputs": [],
   "source": [
    "profile = ProfileReport(df_diabetes)\n",
    "profile.to_file('df_diabetes_report.html')"
   ]
  },
  {
   "cell_type": "code",
   "execution_count": 4,
   "metadata": {},
   "outputs": [
    {
     "data": {
      "application/vnd.jupyter.widget-view+json": {
       "model_id": "fa4e88c9f8f24d779f3a857431746cfb",
       "version_major": 2,
       "version_minor": 0
      },
      "text/plain": [
       "Tab(children=(HTML(value='<div id=\"overview-content\" class=\"row variable spacing\">\\n    <div class=\"row\">\\n   …"
      ]
     },
     "metadata": {},
     "output_type": "display_data"
    },
    {
     "data": {
      "text/html": [
       "Report generated with <a href=\"https://github.com/pandas-profiling/pandas-profiling\">pandas-profiling</a>."
      ],
      "text/plain": [
       "<IPython.core.display.HTML object>"
      ]
     },
     "metadata": {},
     "output_type": "display_data"
    },
    {
     "data": {
      "text/plain": []
     },
     "execution_count": 4,
     "metadata": {},
     "output_type": "execute_result"
    }
   ],
   "source": [
    "profile"
   ]
  },
  {
   "cell_type": "code",
   "execution_count": 5,
   "metadata": {},
   "outputs": [
    {
     "data": {
      "text/html": [
       "<div>\n",
       "<style scoped>\n",
       "    .dataframe tbody tr th:only-of-type {\n",
       "        vertical-align: middle;\n",
       "    }\n",
       "\n",
       "    .dataframe tbody tr th {\n",
       "        vertical-align: top;\n",
       "    }\n",
       "\n",
       "    .dataframe thead th {\n",
       "        text-align: right;\n",
       "    }\n",
       "</style>\n",
       "<table border=\"1\" class=\"dataframe\">\n",
       "  <thead>\n",
       "    <tr style=\"text-align: right;\">\n",
       "      <th></th>\n",
       "      <th>Pregnancies</th>\n",
       "      <th>Glucose</th>\n",
       "      <th>BloodPressure</th>\n",
       "      <th>SkinThickness</th>\n",
       "      <th>Insulin</th>\n",
       "      <th>BMI</th>\n",
       "      <th>DiabetesPedigreeFunction</th>\n",
       "      <th>Age</th>\n",
       "      <th>Outcome</th>\n",
       "    </tr>\n",
       "  </thead>\n",
       "  <tbody>\n",
       "    <tr>\n",
       "      <th>count</th>\n",
       "      <td>768.000000</td>\n",
       "      <td>768.000000</td>\n",
       "      <td>768.000000</td>\n",
       "      <td>768.000000</td>\n",
       "      <td>768.000000</td>\n",
       "      <td>768.000000</td>\n",
       "      <td>768.000000</td>\n",
       "      <td>768.000000</td>\n",
       "      <td>768.000000</td>\n",
       "    </tr>\n",
       "    <tr>\n",
       "      <th>mean</th>\n",
       "      <td>3.845052</td>\n",
       "      <td>120.894531</td>\n",
       "      <td>69.105469</td>\n",
       "      <td>20.536458</td>\n",
       "      <td>79.799479</td>\n",
       "      <td>31.992578</td>\n",
       "      <td>0.471876</td>\n",
       "      <td>33.240885</td>\n",
       "      <td>0.348958</td>\n",
       "    </tr>\n",
       "    <tr>\n",
       "      <th>std</th>\n",
       "      <td>3.369578</td>\n",
       "      <td>31.972618</td>\n",
       "      <td>19.355807</td>\n",
       "      <td>15.952218</td>\n",
       "      <td>115.244002</td>\n",
       "      <td>7.884160</td>\n",
       "      <td>0.331329</td>\n",
       "      <td>11.760232</td>\n",
       "      <td>0.476951</td>\n",
       "    </tr>\n",
       "    <tr>\n",
       "      <th>min</th>\n",
       "      <td>0.000000</td>\n",
       "      <td>0.000000</td>\n",
       "      <td>0.000000</td>\n",
       "      <td>0.000000</td>\n",
       "      <td>0.000000</td>\n",
       "      <td>0.000000</td>\n",
       "      <td>0.078000</td>\n",
       "      <td>21.000000</td>\n",
       "      <td>0.000000</td>\n",
       "    </tr>\n",
       "    <tr>\n",
       "      <th>25%</th>\n",
       "      <td>1.000000</td>\n",
       "      <td>99.000000</td>\n",
       "      <td>62.000000</td>\n",
       "      <td>0.000000</td>\n",
       "      <td>0.000000</td>\n",
       "      <td>27.300000</td>\n",
       "      <td>0.243750</td>\n",
       "      <td>24.000000</td>\n",
       "      <td>0.000000</td>\n",
       "    </tr>\n",
       "    <tr>\n",
       "      <th>50%</th>\n",
       "      <td>3.000000</td>\n",
       "      <td>117.000000</td>\n",
       "      <td>72.000000</td>\n",
       "      <td>23.000000</td>\n",
       "      <td>30.500000</td>\n",
       "      <td>32.000000</td>\n",
       "      <td>0.372500</td>\n",
       "      <td>29.000000</td>\n",
       "      <td>0.000000</td>\n",
       "    </tr>\n",
       "    <tr>\n",
       "      <th>75%</th>\n",
       "      <td>6.000000</td>\n",
       "      <td>140.250000</td>\n",
       "      <td>80.000000</td>\n",
       "      <td>32.000000</td>\n",
       "      <td>127.250000</td>\n",
       "      <td>36.600000</td>\n",
       "      <td>0.626250</td>\n",
       "      <td>41.000000</td>\n",
       "      <td>1.000000</td>\n",
       "    </tr>\n",
       "    <tr>\n",
       "      <th>max</th>\n",
       "      <td>17.000000</td>\n",
       "      <td>199.000000</td>\n",
       "      <td>122.000000</td>\n",
       "      <td>99.000000</td>\n",
       "      <td>846.000000</td>\n",
       "      <td>67.100000</td>\n",
       "      <td>2.420000</td>\n",
       "      <td>81.000000</td>\n",
       "      <td>1.000000</td>\n",
       "    </tr>\n",
       "  </tbody>\n",
       "</table>\n",
       "</div>"
      ],
      "text/plain": [
       "       Pregnancies     Glucose  BloodPressure  SkinThickness     Insulin  \\\n",
       "count   768.000000  768.000000     768.000000     768.000000  768.000000   \n",
       "mean      3.845052  120.894531      69.105469      20.536458   79.799479   \n",
       "std       3.369578   31.972618      19.355807      15.952218  115.244002   \n",
       "min       0.000000    0.000000       0.000000       0.000000    0.000000   \n",
       "25%       1.000000   99.000000      62.000000       0.000000    0.000000   \n",
       "50%       3.000000  117.000000      72.000000      23.000000   30.500000   \n",
       "75%       6.000000  140.250000      80.000000      32.000000  127.250000   \n",
       "max      17.000000  199.000000     122.000000      99.000000  846.000000   \n",
       "\n",
       "              BMI  DiabetesPedigreeFunction         Age     Outcome  \n",
       "count  768.000000                768.000000  768.000000  768.000000  \n",
       "mean    31.992578                  0.471876   33.240885    0.348958  \n",
       "std      7.884160                  0.331329   11.760232    0.476951  \n",
       "min      0.000000                  0.078000   21.000000    0.000000  \n",
       "25%     27.300000                  0.243750   24.000000    0.000000  \n",
       "50%     32.000000                  0.372500   29.000000    0.000000  \n",
       "75%     36.600000                  0.626250   41.000000    1.000000  \n",
       "max     67.100000                  2.420000   81.000000    1.000000  "
      ]
     },
     "execution_count": 5,
     "metadata": {},
     "output_type": "execute_result"
    }
   ],
   "source": [
    "df_diabetes.describe(include='all')"
   ]
  },
  {
   "cell_type": "markdown",
   "metadata": {},
   "source": [
    "### Correlation against target variable"
   ]
  },
  {
   "cell_type": "code",
   "execution_count": 6,
   "metadata": {},
   "outputs": [
    {
     "data": {
      "text/plain": [
       "Pregnancies                 0.221898\n",
       "Glucose                     0.466581\n",
       "BloodPressure               0.065068\n",
       "SkinThickness               0.074752\n",
       "Insulin                     0.130548\n",
       "BMI                         0.292695\n",
       "DiabetesPedigreeFunction    0.173844\n",
       "Age                         0.238356\n",
       "Outcome                     1.000000\n",
       "Name: Outcome, dtype: float64"
      ]
     },
     "execution_count": 6,
     "metadata": {},
     "output_type": "execute_result"
    }
   ],
   "source": [
    "correlations = df_diabetes.corr()\n",
    "correlations['Outcome']"
   ]
  },
  {
   "cell_type": "code",
   "execution_count": 7,
   "metadata": {},
   "outputs": [
    {
     "data": {
      "image/png": "[encoded data removed]",
      "text/plain": [
       "<Figure size 560x420 with 2 Axes>"
      ]
     },
     "metadata": {},
     "output_type": "display_data"
    }
   ],
   "source": [
    "plt.figure(figsize=(8, 6), dpi=70)\n",
    "sns.heatmap(correlations);"
   ]
  },
  {
   "cell_type": "code",
   "execution_count": 8,
   "metadata": {},
   "outputs": [
    {
     "data": {
      "image/png": "[encoded data removed]",
      "text/plain": [
       "<Figure size 216x288 with 1 Axes>"
      ]
     },
     "metadata": {},
     "output_type": "display_data"
    },
    {
     "data": {
      "image/png": "[encoded data removed]",
      "text/plain": [
       "<Figure size 216x288 with 1 Axes>"
      ]
     },
     "metadata": {},
     "output_type": "display_data"
    },
    {
     "data": {
      "image/png": "[encoded data removed]",
      "text/plain": [
       "<Figure size 216x288 with 1 Axes>"
      ]
     },
     "metadata": {},
     "output_type": "display_data"
    },
    {
     "data": {
      "image/png": "[encoded data removed]",
      "text/plain": [
       "<Figure size 216x288 with 1 Axes>"
      ]
     },
     "metadata": {},
     "output_type": "display_data"
    },
    {
     "data": {
      "image/png": "[encoded data removed]",
      "text/plain": [
       "<Figure size 216x288 with 1 Axes>"
      ]
     },
     "metadata": {},
     "output_type": "display_data"
    },
    {
     "data": {
      "image/png": "[encoded data removed]",
      "text/plain": [
       "<Figure size 216x288 with 1 Axes>"
      ]
     },
     "metadata": {},
     "output_type": "display_data"
    },
    {
     "data": {
      "image/png": "[encoded data removed]",
      "text/plain": [
       "<Figure size 216x288 with 1 Axes>"
      ]
     },
     "metadata": {},
     "output_type": "display_data"
    },
    {
     "data": {
      "image/png": "[encoded data removed]",
      "text/plain": [
       "<Figure size 216x288 with 1 Axes>"
      ]
     },
     "metadata": {},
     "output_type": "display_data"
    }
   ],
   "source": [
    "features = ['Pregnancies', 'Glucose', 'BloodPressure', 'SkinThickness', 'Insulin', 'BMI', 'DiabetesPedigreeFunction', 'Age']\n",
    "label = 'Outcome'\n",
    "\n",
    "X, y = df_diabetes[features].values, df_diabetes[label].values\n",
    "for col in features:\n",
    "    df_diabetes.boxplot(column = col, by='Outcome', figsize = (3,4))"
   ]
  },
  {
   "cell_type": "markdown",
   "metadata": {},
   "source": [
    "## Preprocessing\n",
    "### Replace zero values with corrosponding mean values\n",
    "* Take mean value of insulin (non-diabates patients and  non zero insulin value records) \n",
    "* Take mean value of insulin (diabates patients and  non zero insulin value records) \n",
    "* Take mean value of SkinThickness (non-diabates patients and  non zero SkinThickness value records) \n",
    "* Take mean value of SkinThickness (diabates patients and  non zero SkinThickness value records) "
   ]
  },
  {
   "cell_type": "code",
   "execution_count": 9,
   "metadata": {},
   "outputs": [],
   "source": [
    "rslt_df_0_insulin = df_dibcpy[(df_dibcpy['Outcome'] == 0) & (df_dibcpy['Insulin']!=0)] \n",
    "rslt_df_1_insulin = df_dibcpy[(df_dibcpy['Outcome'] == 1) & (df_dibcpy['Insulin']!=0)] \n",
    "\n",
    "rslt_df_0_SkinThickness = df_dibcpy[(df_dibcpy['Outcome'] == 0) & (df_dibcpy['SkinThickness']!=0)] \n",
    "rslt_df_1_SkinThickness = df_dibcpy[(df_dibcpy['Outcome'] == 1) & (df_dibcpy['SkinThickness']!=0)] \n",
    "\n",
    "rslt_df_0_BloodPressure = df_dibcpy[(df_dibcpy['Outcome'] == 0) & (df_dibcpy['BloodPressure']!=0)] \n",
    "rslt_df_1_BloodPressure = df_dibcpy[(df_dibcpy['Outcome'] == 1) & (df_dibcpy['BloodPressure']!=0)] \n",
    "\n",
    "rslt_df_0_BMI = df_dibcpy[(df_dibcpy['Outcome'] == 0) & (df_dibcpy['BMI']!=0)] \n",
    "rslt_df_1_BMI = df_dibcpy[(df_dibcpy['Outcome'] == 1) & (df_dibcpy['BMI']!=0)] "
   ]
  },
  {
   "cell_type": "code",
   "execution_count": 10,
   "metadata": {},
   "outputs": [
    {
     "data": {
      "text/plain": [
       "(130.28787878787878, 206.84615384615384, 27.235457063711912, 33.0)"
      ]
     },
     "execution_count": 10,
     "metadata": {},
     "output_type": "execute_result"
    }
   ],
   "source": [
    "rslt_df_0_insulin['Insulin'].mean(),rslt_df_1_insulin['Insulin'].mean(),rslt_df_0_SkinThickness['SkinThickness'].mean(),rslt_df_1_SkinThickness['SkinThickness'].mean()"
   ]
  },
  {
   "cell_type": "markdown",
   "metadata": {},
   "source": [
    "### Update zero values with mean values"
   ]
  },
  {
   "cell_type": "code",
   "execution_count": 11,
   "metadata": {},
   "outputs": [],
   "source": [
    "df_diabetes['Insulin'] = np.where((df_diabetes['Insulin'] == 0) & (df_diabetes['Outcome'] == 0), rslt_df_0_insulin['Insulin'].mean(), df_diabetes['Insulin'])\n",
    "df_diabetes['Insulin'] = np.where((df_diabetes['Insulin'] == 0) & (df_diabetes['Outcome'] == 1), rslt_df_1_insulin['Insulin'].mean(), df_diabetes['Insulin'])\n",
    "\n",
    "df_diabetes['SkinThickness'] = np.where((df_diabetes['SkinThickness'] == 0) & (df_diabetes['Outcome'] == 1), rslt_df_1_SkinThickness['SkinThickness'].mean(), df_diabetes['SkinThickness'])\n",
    "df_diabetes['SkinThickness'] = np.where((df_diabetes['SkinThickness'] == 0) & (df_diabetes['Outcome'] == 0), rslt_df_0_SkinThickness['SkinThickness'].mean(), df_diabetes['SkinThickness'])\n",
    "\n",
    "df_diabetes['BloodPressure'] = np.where((df_diabetes['BloodPressure'] == 0) & (df_diabetes['Outcome'] == 0), rslt_df_0_BloodPressure['BloodPressure'].mean(), df_diabetes['BloodPressure'])\n",
    "df_diabetes['BloodPressure'] = np.where((df_diabetes['BloodPressure'] == 0) & (df_diabetes['Outcome'] == 1), rslt_df_1_BloodPressure['BloodPressure'].mean(), df_diabetes['BloodPressure'])\n",
    "\n",
    "df_diabetes['BMI'] = np.where((df_diabetes['BMI'] == 0) & (df_diabetes['Outcome'] == 0), rslt_df_0_BMI['BMI'].mean(), df_diabetes['BMI'])\n",
    "df_diabetes['BMI'] = np.where((df_diabetes['BMI'] == 0) & (df_diabetes['Outcome'] == 1), rslt_df_1_BMI['BMI'].mean(), df_diabetes['BMI'])"
   ]
  },
  {
   "cell_type": "markdown",
   "metadata": {},
   "source": [
    "### compare previous and current statistics\n",
    "* check standerd diviation is reduced"
   ]
  },
  {
   "cell_type": "code",
   "execution_count": 12,
   "metadata": {},
   "outputs": [
    {
     "data": {
      "text/html": [
       "<div>\n",
       "<style scoped>\n",
       "    .dataframe tbody tr th:only-of-type {\n",
       "        vertical-align: middle;\n",
       "    }\n",
       "\n",
       "    .dataframe tbody tr th {\n",
       "        vertical-align: top;\n",
       "    }\n",
       "\n",
       "    .dataframe thead th {\n",
       "        text-align: right;\n",
       "    }\n",
       "</style>\n",
       "<table border=\"1\" class=\"dataframe\">\n",
       "  <thead>\n",
       "    <tr style=\"text-align: right;\">\n",
       "      <th></th>\n",
       "      <th>Pregnancies</th>\n",
       "      <th>Glucose</th>\n",
       "      <th>BloodPressure</th>\n",
       "      <th>SkinThickness</th>\n",
       "      <th>Insulin</th>\n",
       "      <th>BMI</th>\n",
       "      <th>DiabetesPedigreeFunction</th>\n",
       "      <th>Age</th>\n",
       "      <th>Outcome</th>\n",
       "    </tr>\n",
       "  </thead>\n",
       "  <tbody>\n",
       "    <tr>\n",
       "      <th>std</th>\n",
       "      <td>3.369578</td>\n",
       "      <td>31.972618</td>\n",
       "      <td>19.355807</td>\n",
       "      <td>15.952218</td>\n",
       "      <td>115.244002</td>\n",
       "      <td>7.88416</td>\n",
       "      <td>0.331329</td>\n",
       "      <td>11.760232</td>\n",
       "      <td>0.476951</td>\n",
       "    </tr>\n",
       "  </tbody>\n",
       "</table>\n",
       "</div>"
      ],
      "text/plain": [
       "     Pregnancies    Glucose  BloodPressure  SkinThickness     Insulin  \\\n",
       "std     3.369578  31.972618      19.355807      15.952218  115.244002   \n",
       "\n",
       "         BMI  DiabetesPedigreeFunction        Age   Outcome  \n",
       "std  7.88416                  0.331329  11.760232  0.476951  "
      ]
     },
     "execution_count": 12,
     "metadata": {},
     "output_type": "execute_result"
    }
   ],
   "source": [
    "df_dibcpy.describe().loc[['std']]"
   ]
  },
  {
   "cell_type": "code",
   "execution_count": 13,
   "metadata": {},
   "outputs": [
    {
     "data": {
      "text/html": [
       "<div>\n",
       "<style scoped>\n",
       "    .dataframe tbody tr th:only-of-type {\n",
       "        vertical-align: middle;\n",
       "    }\n",
       "\n",
       "    .dataframe tbody tr th {\n",
       "        vertical-align: top;\n",
       "    }\n",
       "\n",
       "    .dataframe thead th {\n",
       "        text-align: right;\n",
       "    }\n",
       "</style>\n",
       "<table border=\"1\" class=\"dataframe\">\n",
       "  <thead>\n",
       "    <tr style=\"text-align: right;\">\n",
       "      <th></th>\n",
       "      <th>Pregnancies</th>\n",
       "      <th>Glucose</th>\n",
       "      <th>BloodPressure</th>\n",
       "      <th>SkinThickness</th>\n",
       "      <th>Insulin</th>\n",
       "      <th>BMI</th>\n",
       "      <th>DiabetesPedigreeFunction</th>\n",
       "      <th>Age</th>\n",
       "      <th>Outcome</th>\n",
       "    </tr>\n",
       "  </thead>\n",
       "  <tbody>\n",
       "    <tr>\n",
       "      <th>std</th>\n",
       "      <td>3.369578</td>\n",
       "      <td>31.972618</td>\n",
       "      <td>12.106044</td>\n",
       "      <td>8.923908</td>\n",
       "      <td>88.860914</td>\n",
       "      <td>6.87897</td>\n",
       "      <td>0.331329</td>\n",
       "      <td>11.760232</td>\n",
       "      <td>0.476951</td>\n",
       "    </tr>\n",
       "  </tbody>\n",
       "</table>\n",
       "</div>"
      ],
      "text/plain": [
       "     Pregnancies    Glucose  BloodPressure  SkinThickness    Insulin      BMI  \\\n",
       "std     3.369578  31.972618      12.106044       8.923908  88.860914  6.87897   \n",
       "\n",
       "     DiabetesPedigreeFunction        Age   Outcome  \n",
       "std                  0.331329  11.760232  0.476951  "
      ]
     },
     "execution_count": 13,
     "metadata": {},
     "output_type": "execute_result"
    }
   ],
   "source": [
    "df_diabetes.describe().loc[['std']]\n"
   ]
  },
  {
   "cell_type": "code",
   "execution_count": 14,
   "metadata": {},
   "outputs": [
    {
     "data": {
      "text/plain": [
       "(Pregnancies                 0.221898\n",
       " Glucose                     0.466581\n",
       " BloodPressure               0.065068\n",
       " SkinThickness               0.074752\n",
       " Insulin                     0.130548\n",
       " BMI                         0.292695\n",
       " DiabetesPedigreeFunction    0.173844\n",
       " Age                         0.238356\n",
       " Outcome                     1.000000\n",
       " Name: Outcome, dtype: float64,\n",
       " Pregnancies                 0.221898\n",
       " Glucose                     0.466581\n",
       " BloodPressure               0.175087\n",
       " SkinThickness               0.308094\n",
       " Insulin                     0.410918\n",
       " BMI                         0.315271\n",
       " DiabetesPedigreeFunction    0.173844\n",
       " Age                         0.238356\n",
       " Outcome                     1.000000\n",
       " Name: Outcome, dtype: float64)"
      ]
     },
     "execution_count": 14,
     "metadata": {},
     "output_type": "execute_result"
    }
   ],
   "source": [
    "correlations = df_diabetes.corr()\n",
    "correlations_pre = df_dibcpy.corr()\n",
    "correlations_pre['Outcome'],correlations['Outcome']\n"
   ]
  },
  {
   "cell_type": "code",
   "execution_count": 15,
   "metadata": {},
   "outputs": [
    {
     "data": {
      "text/plain": [
       "<AxesSubplot:>"
      ]
     },
     "execution_count": 15,
     "metadata": {},
     "output_type": "execute_result"
    },
    {
     "data": {
      "image/png": "[encoded data removed]",
      "text/plain": [
       "<Figure size 1440x576 with 4 Axes>"
      ]
     },
     "metadata": {},
     "output_type": "display_data"
    }
   ],
   "source": [
    "fig, (ax1, ax2) = plt.subplots(1, 2, figsize=(20,8))\n",
    "sns.heatmap(correlations_pre, ax=ax1)\n",
    "sns.heatmap(correlations, ax=ax2)"
   ]
  },
  {
   "cell_type": "code",
   "execution_count": 16,
   "metadata": {},
   "outputs": [],
   "source": [
    "profile_new = ProfileReport(df_diabetes)\n",
    "profile_new.to_file('df_diabetes_new_report.html')"
   ]
  },
  {
   "cell_type": "code",
   "execution_count": 17,
   "metadata": {},
   "outputs": [
    {
     "data": {
      "application/vnd.jupyter.widget-view+json": {
       "model_id": "015a56c538584e27aae60a53f2ea396d",
       "version_major": 2,
       "version_minor": 0
      },
      "text/plain": [
       "Tab(children=(HTML(value='<div id=\"overview-content\" class=\"row variable spacing\">\\n    <div class=\"row\">\\n   …"
      ]
     },
     "metadata": {},
     "output_type": "display_data"
    },
    {
     "data": {
      "text/html": [
       "Report generated with <a href=\"https://github.com/pandas-profiling/pandas-profiling\">pandas-profiling</a>."
      ],
      "text/plain": [
       "<IPython.core.display.HTML object>"
      ]
     },
     "metadata": {},
     "output_type": "display_data"
    },
    {
     "data": {
      "text/plain": []
     },
     "execution_count": 17,
     "metadata": {},
     "output_type": "execute_result"
    }
   ],
   "source": [
    "profile_new"
   ]
  },
  {
   "cell_type": "markdown",
   "metadata": {},
   "source": [
    "### Scale data to normalaize and Split Train and Test data"
   ]
  },
  {
   "cell_type": "code",
   "execution_count": 18,
   "metadata": {},
   "outputs": [],
   "source": [
    "scaler=MinMaxScaler(feature_range=(-1,1))\n",
    "#Scale only features, skip outcome\n",
    "diabetes_scaler=scaler.fit_transform(np.array(df_diabetes.iloc[:,:8]))\n",
    "\n",
    "#split 80% 20%\n",
    "training_size=int(len(diabetes_scaler)*0.8)\n",
    "test_size=len(diabetes_scaler)-training_size\n",
    "#Make X_train and y_train\n",
    "X_train_data,Y_test_data=diabetes_scaler[0:training_size],diabetes_scaler[training_size:len(diabetes_scaler)]\n",
    "X_train, X_test, y_train, y_test =diabetes_scaler[0:training_size],diabetes_scaler[training_size:len(diabetes_scaler)],df_diabetes.iloc[0:training_size,8],df_diabetes.iloc[training_size:len(diabetes_scaler),8]"
   ]
  },
  {
   "cell_type": "code",
   "execution_count": 19,
   "metadata": {},
   "outputs": [
    {
     "data": {
      "text/plain": [
       "((614, 8), (154, 8), (614,), (154,))"
      ]
     },
     "execution_count": 19,
     "metadata": {},
     "output_type": "execute_result"
    }
   ],
   "source": [
    "X_train.shape, X_test.shape,y_train.shape, y_test.shape"
   ]
  },
  {
   "cell_type": "code",
   "execution_count": 20,
   "metadata": {},
   "outputs": [
    {
     "data": {
      "text/plain": [
       "251384087409870.3"
      ]
     },
     "execution_count": 20,
     "metadata": {},
     "output_type": "execute_result"
    }
   ],
   "source": [
    "np.linalg.det(X_train.T.dot(X_train))"
   ]
  },
  {
   "cell_type": "code",
   "execution_count": 21,
   "metadata": {},
   "outputs": [
    {
     "data": {
      "text/plain": [
       "array([ 0.08446907,  0.7693923 ,  0.08942157, -0.19986471, -0.16436422,\n",
       "        0.28755015, -0.09114932, -0.08050268])"
      ]
     },
     "execution_count": 21,
     "metadata": {},
     "output_type": "execute_result"
    }
   ],
   "source": [
    "weights = np.linalg.inv(X_train.T.dot(X_train)).dot(X_train.T).dot(y_train)\n",
    "weights"
   ]
  },
  {
   "cell_type": "markdown",
   "metadata": {},
   "source": [
    "## Perseptron Implementation"
   ]
  },
  {
   "cell_type": "code",
   "execution_count": 22,
   "metadata": {},
   "outputs": [],
   "source": [
    "def predict(weights,bias,xTest):\n",
    "    linear_output = np.dot(xTest, weights) + bias\n",
    "    y_predicted = activation(linear_output)\n",
    "    return y_predicted   \n",
    "\n",
    "def accuracy(y_true, y_pred):\n",
    "    accuracy = np.sum(y_true == y_pred) / len(y_true)\n",
    "    return accuracy\n",
    "\n",
    "def activation(x):\n",
    "    return np.where(x >= 0.0 , 1, 0)"
   ]
  },
  {
   "cell_type": "markdown",
   "metadata": {},
   "source": [
    "## Perseptron with weights initialize as 0's"
   ]
  },
  {
   "cell_type": "code",
   "execution_count": 23,
   "metadata": {},
   "outputs": [
    {
     "data": {
      "text/plain": [
       "0.7402597402597403"
      ]
     },
     "execution_count": 23,
     "metadata": {},
     "output_type": "execute_result"
    }
   ],
   "source": [
    "def Modelfit(xTrain,yTrain,bias,leaningrate,epochs):\n",
    "    n_samples, n_features = xTrain.shape\n",
    "    weights = np.zeros(n_features)       \n",
    "    bias = bias\n",
    "    for i in range(epochs):        \n",
    "        for idx, x_i in enumerate(xTrain):\n",
    "            linear_output = np.dot(x_i, weights) + bias\n",
    "            y_predicted = activation(linear_output)\n",
    "            update = leaningrate* (yTrain[idx] - y_predicted)\n",
    "            weights += update * x_i\n",
    "            bias += update            \n",
    "    return weights,bias\n",
    "\n",
    "Wight_new,bias_update=Modelfit(X_train, y_train,0.9,0.1,100)\n",
    "predictions = predict(Wight_new,bias_update,X_test)\n",
    "acc=accuracy(y_test, predictions)\n",
    "acc\n"
   ]
  },
  {
   "cell_type": "markdown",
   "metadata": {},
   "source": [
    "### Weights Update Experiment\n",
    "* weight array with correlation values"
   ]
  },
  {
   "cell_type": "code",
   "execution_count": 24,
   "metadata": {},
   "outputs": [
    {
     "data": {
      "text/plain": [
       "0.7857142857142857"
      ]
     },
     "execution_count": 24,
     "metadata": {},
     "output_type": "execute_result"
    }
   ],
   "source": [
    "def Modelfit(xTrain,yTrain,bias,leaningrate,epochs):\n",
    "    n_samples, n_features = X.shape    \n",
    "    weights =[0.2,0.4,0.1,0.3,0.4,0.3,0.1,0.2] \n",
    "    # weights = np.linalg.inv(xTrain.T.dot(xTrain)).dot(xTrain.T).dot(yTrain)       \n",
    "    bias = bias\n",
    "    for i in range(epochs):        \n",
    "        for idx, x_i in enumerate(xTrain):\n",
    "            linear_output = np.dot(x_i, weights) + bias\n",
    "            y_predicted = activation(linear_output)\n",
    "            update = leaningrate* (yTrain[idx] - y_predicted)\n",
    "            weights += update * x_i\n",
    "            bias += update            \n",
    "    return weights,bias\n",
    "\n",
    "Wight_new,bias_update=Modelfit(X_train, y_train,0.9,0.1,100)\n",
    "predictions = predict(Wight_new,bias_update,X_test)\n",
    "acc=accuracy(y_test, predictions)\n",
    "acc"
   ]
  },
  {
   "cell_type": "markdown",
   "metadata": {},
   "source": [
    "### Bias remove from linear output value (without bias)"
   ]
  },
  {
   "cell_type": "code",
   "execution_count": 25,
   "metadata": {},
   "outputs": [
    {
     "data": {
      "text/plain": [
       "0.7857142857142857"
      ]
     },
     "execution_count": 25,
     "metadata": {},
     "output_type": "execute_result"
    }
   ],
   "source": [
    "def Modelfit(xTrain,yTrain,bias,leaningrate,epochs):\n",
    "    n_samples, n_features = xTrain.shape     \n",
    "    weights =[0.2,0.4,0.1,0.3,0.4,0.3,0.1,0.2]\n",
    "    # weights = np.zeros(n_features)       \n",
    "    bias = bias\n",
    "    for i in range(epochs):        \n",
    "        for idx, x_i in enumerate(xTrain):\n",
    "            linear_output = np.dot(x_i, weights) \n",
    "            y_predicted = activation(linear_output)\n",
    "            update = leaningrate* (yTrain[idx] - y_predicted)\n",
    "            weights += update * x_i\n",
    "            # bias += update            \n",
    "    return weights,bias\n",
    "\n",
    "Wight_new,bias_update=Modelfit(X_train, y_train,0.9,0.19,100)\n",
    "predictions = predict(Wight_new,0.0,X_test)\n",
    "acc=accuracy(y_test, predictions)\n",
    "acc"
   ]
  },
  {
   "cell_type": "markdown",
   "metadata": {},
   "source": [
    "### Remove Bias Update "
   ]
  },
  {
   "cell_type": "code",
   "execution_count": 26,
   "metadata": {},
   "outputs": [
    {
     "data": {
      "text/plain": [
       "0.8051948051948052"
      ]
     },
     "execution_count": 26,
     "metadata": {},
     "output_type": "execute_result"
    }
   ],
   "source": [
    "def Modelfit(xTrain,yTrain,bias,leaningrate,epochs):\n",
    "    n_samples, n_features = xTrain.shape\n",
    "    # weights = np.zeros(n_features) \n",
    "    weights =[0.2,0.4,0.1,0.3,0.4,0.3,0.1,0.2]      \n",
    "    bias = bias\n",
    "    for i in range(epochs):        \n",
    "        for idx, x_i in enumerate(xTrain):\n",
    "            linear_output = np.dot(x_i, weights) + bias\n",
    "            y_predicted = activation(linear_output)\n",
    "            update = leaningrate* (yTrain[idx] - y_predicted)\n",
    "            weights += update * x_i\n",
    "            # bias += update            \n",
    "    return weights,bias\n",
    "\n",
    "Wight_new,bias_update=Modelfit(X_train, y_train,0.9,0.19,100)\n",
    "predictions = predict(Wight_new,0.885,X_test)\n",
    "acc=accuracy(y_test, predictions)\n",
    "acc"
   ]
  },
  {
   "cell_type": "markdown",
   "metadata": {},
   "source": [
    "### Make All-together with learning rate 0.19 and bias initial with 0.9 and iteration 100"
   ]
  },
  {
   "cell_type": "code",
   "execution_count": 27,
   "metadata": {},
   "outputs": [
    {
     "data": {
      "text/plain": [
       "0.8311688311688312"
      ]
     },
     "execution_count": 27,
     "metadata": {},
     "output_type": "execute_result"
    }
   ],
   "source": [
    "def Modelfit(xTrain,yTrain,bias,leaningrate,epochs):\n",
    "    n_samples, n_features = xTrain.shape\n",
    "    # weights = np.zeros(n_features) \n",
    "    weights =[0.2,0.4,0.1,0.3,0.4,0.3,0.1,0.2]      \n",
    "    bias = bias\n",
    "    for i in range(epochs):        \n",
    "        for idx, x_i in enumerate(xTrain):\n",
    "            linear_output = np.dot(x_i, weights) + bias\n",
    "            y_predicted = activation(linear_output)\n",
    "            update = leaningrate* (yTrain[idx] - y_predicted)\n",
    "            weights += update * x_i\n",
    "            bias += update            \n",
    "    return weights,bias\n",
    "Wight_new,bias_update=Modelfit(X_train, y_train,0.9,0.19,100)\n",
    "predictions = predict(Wight_new,0.9,X_test)\n",
    "acc=accuracy(y_test, predictions)\n",
    "acc"
   ]
  },
  {
   "cell_type": "markdown",
   "metadata": {},
   "source": [
    "### Iteration changed to 50"
   ]
  },
  {
   "cell_type": "code",
   "execution_count": 28,
   "metadata": {},
   "outputs": [
    {
     "data": {
      "text/plain": [
       "0.7792207792207793"
      ]
     },
     "execution_count": 28,
     "metadata": {},
     "output_type": "execute_result"
    }
   ],
   "source": [
    "def Modelfit(xTrain,yTrain,bias,leaningrate,epochs):\n",
    "    n_samples, n_features = xTrain.shape\n",
    "    # weights = np.zeros(n_features) \n",
    "    weights =[0.2,0.4,0.1,0.3,0.4,0.3,0.1,0.2]      \n",
    "    bias = bias\n",
    "    for i in range(epochs):        \n",
    "        for idx, x_i in enumerate(xTrain):\n",
    "            linear_output = np.dot(x_i, weights) + bias\n",
    "            y_predicted = activation(linear_output)\n",
    "            update = leaningrate* (yTrain[idx] - y_predicted)\n",
    "            weights += update * x_i\n",
    "            bias += update            \n",
    "    return weights,bias\n",
    "Wight_new,bias_update=Modelfit(X_train, y_train,0.9,0.19,50)\n",
    "predictions = predict(Wight_new,0.9,X_test)\n",
    "acc=accuracy(y_test, predictions)\n",
    "acc"
   ]
  },
  {
   "cell_type": "code",
   "execution_count": 282,
   "metadata": {},
   "outputs": [],
   "source": [
    "def Modelfit(xTrain,yTrain,bias,leaningrate,epochs):\n",
    "    n_samples, n_features = xTrain.shape\n",
    "    # weights = np.zeros(n_features) \n",
    "    weights =[0.2,0.4,0.1,0.3,0.4,0.3,0.1,0.2]      \n",
    "    bias = bias\n",
    "    for i in range(epochs):        \n",
    "        for idx, x_i in enumerate(xTrain):\n",
    "            linear_output = np.dot(x_i, weights) + bias\n",
    "            y_predicted = activation(linear_output)\n",
    "            update = leaningrate* (yTrain[idx] - y_predicted)\n",
    "            weights += update * x_i\n",
    "            bias += update            \n",
    "    return weights,bias"
   ]
  },
  {
   "cell_type": "markdown",
   "metadata": {},
   "source": [
    "### Model trained 50 times by changing learning rate and pick Best model"
   ]
  },
  {
   "cell_type": "code",
   "execution_count": 29,
   "metadata": {},
   "outputs": [
    {
     "name": "stdout",
     "output_type": "stream",
     "text": [
      "0.6623376623376623\n",
      "0.7272727272727273\n",
      "0.8051948051948052\n",
      "0.8181818181818182\n",
      "0.8246753246753247\n",
      "0.8311688311688312\n",
      "0.8376623376623377\n",
      "0.8506493506493507\n",
      "epoch 43-0.8506493506493507\n",
      " learning rate :0.43\n",
      " weights:[ 0.45294118  1.96874372 -0.23228937  0.8408792   2.27805868 -0.13856151\n",
      "  0.24027327  0.34333333]\n",
      "bias -1.76\n"
     ]
    }
   ],
   "source": [
    "def start():\n",
    "    epochs=50\n",
    "    bias=0.9\n",
    "    lr=0.01\n",
    "    iterations=100\n",
    "    max_acc=0.0\n",
    "    bestmodel=\"\"\n",
    "    for a in range(0,epochs):\n",
    "        \n",
    "        Wight_new,bias_update=Modelfit(X_train, y_train,bias,lr*a,iterations)\n",
    "        predictions = predict(Wight_new,bias_update,X_test)\n",
    "        acc=accuracy(y_test, predictions)\n",
    "        if acc>max_acc:\n",
    "            max_acc=acc\n",
    "            print(str(max_acc))\n",
    "            bestmodel=\"epoch \"+str(a)+\"-\"+ str(acc)+\"\\n learning rate :\"+str(lr*a)+\"\\n weights:\"+str(Wight_new)+\"\\nbias -\"+str(bias_update)\n",
    "    print(bestmodel)   \n",
    "start()"
   ]
  },
  {
   "cell_type": "markdown",
   "metadata": {},
   "source": [
    "### Best Model hyperparamter values\n",
    "* Learning rate=0.43\n",
    "* FInal weights= [ 0.45294118  1.96874372 -0.23228937  0.8408792   2.27805868 -0.13856151\n",
    "  0.24027327  0.34333333]\n",
    "* Updated Bias=1.76\n",
    "* Inital Bias=0.9\n",
    "* Initial weights=[0.2,0.4,0.1,0.3,0.4,0.3,0.1,0.2] "
   ]
  },
  {
   "cell_type": "code",
   "execution_count": 30,
   "metadata": {},
   "outputs": [
    {
     "data": {
      "text/plain": [
       "0.8506493506493507"
      ]
     },
     "execution_count": 30,
     "metadata": {},
     "output_type": "execute_result"
    }
   ],
   "source": [
    "Wight_new,bias_update=Modelfit(X_train, y_train,0.9,0.43,100)\n",
    "predictions = predict(Wight_new,bias_update,X_test)\n",
    "acc=accuracy(y_test, predictions)\n",
    "acc"
   ]
  },
  {
   "cell_type": "code",
   "execution_count": 31,
   "metadata": {},
   "outputs": [
    {
     "data": {
      "text/plain": [
       "array([[85, 14],\n",
       "       [ 9, 46]], dtype=int64)"
      ]
     },
     "execution_count": 31,
     "metadata": {},
     "output_type": "execute_result"
    }
   ],
   "source": [
    "from sklearn.metrics import ConfusionMatrixDisplay\n",
    "from sklearn.metrics import confusion_matrix\n",
    "confusion = confusion_matrix(y_test, predictions)\n",
    "confusion\n"
   ]
  },
  {
   "cell_type": "code",
   "execution_count": 32,
   "metadata": {},
   "outputs": [
    {
     "data": {
      "text/plain": [
       "<sklearn.metrics._plot.confusion_matrix.ConfusionMatrixDisplay at 0x2a6b3cc6490>"
      ]
     },
     "execution_count": 32,
     "metadata": {},
     "output_type": "execute_result"
    },
    {
     "name": "stderr",
     "output_type": "stream",
     "text": [
      "findfont: Font family ['normal'] not found. Falling back to DejaVu Sans.\n",
      "findfont: Font family ['normal'] not found. Falling back to DejaVu Sans.\n",
      "findfont: Font family ['normal'] not found. Falling back to DejaVu Sans.\n"
     ]
    },
    {
     "data": {
      "image/png": "[encoded data removed]",
      "text/plain": [
       "<Figure size 576x396 with 2 Axes>"
      ]
     },
     "metadata": {},
     "output_type": "display_data"
    }
   ],
   "source": [
    "disp = ConfusionMatrixDisplay(confusion)\n",
    "font = {'family' : 'normal',\n",
    "    'weight' : 'bold',\n",
    "    'size'   : 18}\n",
    "plt.rc('font', **font)\n",
    "disp.plot()"
   ]
  },
  {
   "cell_type": "code",
   "execution_count": 33,
   "metadata": {},
   "outputs": [
    {
     "name": "stdout",
     "output_type": "stream",
     "text": [
      "              precision    recall  f1-score   support\n",
      "\n",
      "           0       0.90      0.86      0.88        99\n",
      "           1       0.77      0.84      0.80        55\n",
      "\n",
      "    accuracy                           0.85       154\n",
      "   macro avg       0.84      0.85      0.84       154\n",
      "weighted avg       0.86      0.85      0.85       154\n",
      "\n"
     ]
    }
   ],
   "source": [
    "from sklearn.metrics import classification_report\n",
    "\n",
    "print (classification_report(y_test, predictions))"
   ]
  },
  {
   "cell_type": "code",
   "execution_count": 34,
   "metadata": {},
   "outputs": [
    {
     "name": "stderr",
     "output_type": "stream",
     "text": [
      "findfont: Font family ['normal'] not found. Falling back to DejaVu Sans.\n"
     ]
    },
    {
     "data": {
      "image/png": "[encoded data removed]",
      "text/plain": [
       "<Figure size 640x480 with 1 Axes>"
      ]
     },
     "metadata": {},
     "output_type": "display_data"
    }
   ],
   "source": [
    "from sklearn.metrics import auc, roc_curve\n",
    "fpr, tpr, threshold = roc_curve(y_score=predictions, y_true=y_test)\n",
    "auc = auc(fpr, tpr)\n",
    "\n",
    "plt.figure(figsize=(8, 6), dpi=80)\n",
    "ax = sns.lineplot(x=[0,1], y=[0,1], color='orange')\n",
    "sns.lineplot(x=fpr, y=tpr, label='AUC = {:.2f}'.format(auc), ci=None)\n",
    "ax.set(xlabel='False positive rate', ylabel='True positive rate', title = 'ROC curve')\n",
    "plt.legend(loc='lower right')\n",
    "plt.grid()"
   ]
  },
  {
   "cell_type": "markdown",
   "metadata": {},
   "source": [
    "### Change precentages of Training and Testing\n",
    "* Found Best as same above model in 80% 20% Test and Train data "
   ]
  },
  {
   "cell_type": "code",
   "execution_count": 275,
   "metadata": {},
   "outputs": [
    {
     "name": "stdout",
     "output_type": "stream",
     "text": [
      "prop:0.5\n",
      "0.6588541666666666\n",
      "0.7526041666666666\n",
      "0.7786458333333334\n",
      "0.7838541666666666\n",
      "0.8125\n",
      "0.8229166666666666\n",
      "epoch 23-0.8229166666666666\n",
      " learning rate :0.23\n",
      " weights:[0.10529412 0.42889447 0.35149223 0.47864266 1.13601701 0.13720083\n",
      " 0.17011956 0.108     ]\n",
      "bias -1.1300000000000001\n",
      "prop:0.6\n",
      "0.6493506493506493\n",
      "0.75\n",
      "0.8246753246753247\n",
      "0.8311688311688312\n",
      "epoch 39-0.8311688311688312\n",
      " learning rate :0.39\n",
      " weights:[3.94117647e-02 1.17412060e+00 1.21936806e-04 1.20071540e+00\n",
      " 2.22208260e+00 3.58264533e-01 1.38633646e-01 2.91000000e-01]\n",
      "bias -2.0700000000000003\n",
      "prop:0.7\n",
      "0.670995670995671\n",
      "0.7878787878787878\n",
      "0.7965367965367965\n",
      "0.8051948051948052\n",
      "0.8095238095238095\n",
      "epoch 36-0.8095238095238095\n",
      " learning rate :0.36\n",
      " weights:[ 0.58117647  0.60984925  0.16627465  0.89933518  1.60359669 -0.01924856\n",
      "  0.19960717 -0.16      ]\n",
      "bias -1.62\n",
      "prop:0.8\n",
      "0.6623376623376623\n",
      "0.7272727272727273\n",
      "0.8051948051948052\n",
      "0.8181818181818182\n",
      "0.8246753246753247\n",
      "0.8311688311688312\n",
      "0.8376623376623377\n",
      "0.8506493506493507\n",
      "epoch 43-0.8506493506493507\n",
      " learning rate :0.43\n",
      " weights:[ 0.45294118  1.96874372 -0.23228937  0.8408792   2.27805868 -0.13856151\n",
      "  0.24027327  0.34333333]\n",
      "bias -1.76\n",
      "prop:0.9\n",
      "0.6493506493506493\n",
      "0.8181818181818182\n",
      "0.8311688311688312\n",
      "epoch 24-0.8311688311688312\n",
      " learning rate :0.24\n",
      " weights:[ 0.24235294  0.81125628 -0.0200651   0.7963748   1.05273938  0.30396437\n",
      "  0.11127242  0.104     ]\n",
      "bias -1.1400000000000001\n"
     ]
    }
   ],
   "source": [
    "training_propotion=[0.5,0.6,0.7,0.8,0.9]\n",
    "for a in training_propotion:\n",
    "    print(\"prop:\"+str(a))\n",
    "    training_size=int(len(diabetes_scaler)*a)\n",
    "    test_size=len(diabetes_scaler)-training_size\n",
    "    X_train_data,Y_test_data=diabetes_scaler[0:training_size],diabetes_scaler[training_size:len(diabetes_scaler)]\n",
    "    X_train, X_test, y_train, y_test =diabetes_scaler[0:training_size],diabetes_scaler[training_size:len(diabetes_scaler)],df_diabetes.iloc[0:training_size,8],df_diabetes.iloc[training_size:len(diabetes_scaler),8]\n",
    "\n",
    "    start()"
   ]
  }
 ],
 "metadata": {
  "kernelspec": {
   "display_name": "Python 3.9.12 ('base')",
   "language": "python",
   "name": "python3"
  },
  "language_info": {
   "codemirror_mode": {
    "name": "ipython",
    "version": 3
   },
   "file_extension": ".py",
   "mimetype": "text/x-python",
   "name": "python",
   "nbconvert_exporter": "python",
   "pygments_lexer": "ipython3",
   "version": "3.9.12"
  },
  "orig_nbformat": 4,
  "vscode": {
   "interpreter": {
    "hash": "7ad5ae411c601ec4fb509b0b1b3c37c88a78eca3ee40d54af41806b29cd8f789"
   }
  }
 },
 "nbformat": 4,
 "nbformat_minor": 2
}
